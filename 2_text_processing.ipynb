{
 "cells": [
  {
   "cell_type": "markdown",
   "metadata": {},
   "source": [
    "# Yelp Reviews - Restaurant Review Topic Analysis  \n",
    "* Ankur Vishwakarma  \n",
    "* Metis SF Winter 2018"
   ]
  },
  {
   "cell_type": "markdown",
   "metadata": {},
   "source": [
    "## Notebook 2 - Text processing  \n",
    "Previous notebook - [1_extracting_reviews](1_extracting_reviews)  \n",
    "\n",
    "---"
   ]
  },
  {
   "cell_type": "markdown",
   "metadata": {},
   "source": [
    "## Table of Contents  \n",
    "1. [Stopwords](#s1)\n",
    "2. [TFIDF](#s2)\n",
    "3. [LSA](#s3)\n",
    "4. [NMF](#s4)\n",
    "5. [Review Similarity in NMF space](#s5)\n",
    "6. [Count Vectorizer](#s6)\n",
    "7. [LDA](#s7)\n",
    "8. [Continuing with NMF Topics](#s8)\n",
    "9. [Topic Modeling All Reviews](#s9)\n",
    "10. [Adding Topic Weights to Pandas DataFrame](#s10)\n",
    "11. [Adding in Business Information](#s11)"
   ]
  },
  {
   "cell_type": "code",
   "execution_count": 1,
   "metadata": {
    "collapsed": true
   },
   "outputs": [],
   "source": [
    "# import initial modules\n",
    "from pprint import pprint\n",
    "import pandas as pd\n",
    "import numpy as np\n",
    "import matplotlib.pyplot as plt\n",
    "%matplotlib inline\n",
    "import seaborn as sns\n",
    "sns.set()"
   ]
  },
  {
   "cell_type": "code",
   "execution_count": 695,
   "metadata": {
    "collapsed": true
   },
   "outputs": [],
   "source": [
    "# read in reviews from previous notebook\n",
    "df = pd.read_csv('reviews_OH_restaurants.csv')\n",
    "df = df.drop(labels='Unnamed: 0', axis=1)"
   ]
  },
  {
   "cell_type": "markdown",
   "metadata": {},
   "source": [
    "Let's check if that data loaded in fine. "
   ]
  },
  {
   "cell_type": "code",
   "execution_count": 696,
   "metadata": {},
   "outputs": [
    {
     "data": {
      "text/html": [
       "<div>\n",
       "<style>\n",
       "    .dataframe thead tr:only-child th {\n",
       "        text-align: right;\n",
       "    }\n",
       "\n",
       "    .dataframe thead th {\n",
       "        text-align: left;\n",
       "    }\n",
       "\n",
       "    .dataframe tbody tr th {\n",
       "        vertical-align: top;\n",
       "    }\n",
       "</style>\n",
       "<table border=\"1\" class=\"dataframe\">\n",
       "  <thead>\n",
       "    <tr style=\"text-align: right;\">\n",
       "      <th></th>\n",
       "      <th>_id</th>\n",
       "      <th>business_id</th>\n",
       "      <th>cool</th>\n",
       "      <th>date</th>\n",
       "      <th>funny</th>\n",
       "      <th>review_id</th>\n",
       "      <th>stars</th>\n",
       "      <th>text</th>\n",
       "      <th>useful</th>\n",
       "      <th>user_id</th>\n",
       "    </tr>\n",
       "  </thead>\n",
       "  <tbody>\n",
       "    <tr>\n",
       "      <th>0</th>\n",
       "      <td>5a95ffceae7ebe8216ae048c</td>\n",
       "      <td>meXjqyhTNLFmknY39y2sMg</td>\n",
       "      <td>1</td>\n",
       "      <td>2014-09-11</td>\n",
       "      <td>1</td>\n",
       "      <td>OPZsR2jCG72uoDNjU71DQQ</td>\n",
       "      <td>5</td>\n",
       "      <td>Solid beers -- Christmas Ale defines my holida...</td>\n",
       "      <td>1</td>\n",
       "      <td>qYbWTWH5leltA0bzWAOnmA</td>\n",
       "    </tr>\n",
       "    <tr>\n",
       "      <th>1</th>\n",
       "      <td>5a95ffceae7ebe8216ae085d</td>\n",
       "      <td>LNsZJP6jZ11e0tDljOLPiQ</td>\n",
       "      <td>0</td>\n",
       "      <td>2015-06-15</td>\n",
       "      <td>0</td>\n",
       "      <td>exyLwRWzDBraqy3UYvnexQ</td>\n",
       "      <td>4</td>\n",
       "      <td>Great vibe + loud crowd for a game + $5 craft ...</td>\n",
       "      <td>0</td>\n",
       "      <td>XuCbLgo9j1q5dDh9251vkg</td>\n",
       "    </tr>\n",
       "    <tr>\n",
       "      <th>2</th>\n",
       "      <td>5a95ffceae7ebe8216ae0b29</td>\n",
       "      <td>7ot8LYmnLhiN726E9dtAgA</td>\n",
       "      <td>0</td>\n",
       "      <td>2012-01-30</td>\n",
       "      <td>0</td>\n",
       "      <td>MnpmRSJR6A1Gup659Y5Slg</td>\n",
       "      <td>4</td>\n",
       "      <td>The food is always good and appropriately pric...</td>\n",
       "      <td>1</td>\n",
       "      <td>IaGVz-MDYSL0TtRoCe84aA</td>\n",
       "    </tr>\n",
       "  </tbody>\n",
       "</table>\n",
       "</div>"
      ],
      "text/plain": [
       "                        _id             business_id  cool        date  funny  \\\n",
       "0  5a95ffceae7ebe8216ae048c  meXjqyhTNLFmknY39y2sMg     1  2014-09-11      1   \n",
       "1  5a95ffceae7ebe8216ae085d  LNsZJP6jZ11e0tDljOLPiQ     0  2015-06-15      0   \n",
       "2  5a95ffceae7ebe8216ae0b29  7ot8LYmnLhiN726E9dtAgA     0  2012-01-30      0   \n",
       "\n",
       "                review_id  stars  \\\n",
       "0  OPZsR2jCG72uoDNjU71DQQ      5   \n",
       "1  exyLwRWzDBraqy3UYvnexQ      4   \n",
       "2  MnpmRSJR6A1Gup659Y5Slg      4   \n",
       "\n",
       "                                                text  useful  \\\n",
       "0  Solid beers -- Christmas Ale defines my holida...       1   \n",
       "1  Great vibe + loud crowd for a game + $5 craft ...       0   \n",
       "2  The food is always good and appropriately pric...       1   \n",
       "\n",
       "                  user_id  \n",
       "0  qYbWTWH5leltA0bzWAOnmA  \n",
       "1  XuCbLgo9j1q5dDh9251vkg  \n",
       "2  IaGVz-MDYSL0TtRoCe84aA  "
      ]
     },
     "execution_count": 696,
     "metadata": {},
     "output_type": "execute_result"
    }
   ],
   "source": [
    "df.head(3)"
   ]
  },
  {
   "cell_type": "markdown",
   "metadata": {},
   "source": [
    "It did! Let's add length data for each review."
   ]
  },
  {
   "cell_type": "code",
   "execution_count": 697,
   "metadata": {
    "collapsed": true
   },
   "outputs": [],
   "source": [
    "df['review_length'] = df.text.map(len)"
   ]
  },
  {
   "cell_type": "code",
   "execution_count": 698,
   "metadata": {},
   "outputs": [
    {
     "data": {
      "image/png": "[encoded data removed]",
      "text/plain": [
       "<matplotlib.figure.Figure at 0x7f629d3ba668>"
      ]
     },
     "metadata": {},
     "output_type": "display_data"
    }
   ],
   "source": [
    "# check how the review lengths are distributed\n",
    "ax = sns.FacetGrid(data=df, col='stars', xlim=(0, 2000)).map(plt.hist, 'review_length', bins=50)\n",
    "ax.axes[0][0].set(ylabel='number of reviews');"
   ]
  },
  {
   "cell_type": "markdown",
   "metadata": {},
   "source": [
    "The distribution of the length of reviews is simliar for each star rating. That's good - that means our tokenization should have about equal text data for both positive and negative reviews.\n",
    "\n",
    "However, we do have a lot more reviews that are positive than negative. We'll see if that's a problem later on. For now, we'll split 1 and 2 star reviews into negative reviews and 4 and 5 star reviews into positive reviews."
   ]
  },
  {
   "cell_type": "code",
   "execution_count": 699,
   "metadata": {},
   "outputs": [
    {
     "name": "stdout",
     "output_type": "stream",
     "text": [
      "Postive Reviews:  90,311\n",
      "Negative Reviews:  26,733\n"
     ]
    }
   ],
   "source": [
    "pos_reviews = df.text[df.stars>3].values\n",
    "neg_reviews = df.text[df.stars<3].values\n",
    "print('Postive Reviews:  {:,}'.format(len(pos_reviews)))\n",
    "print('Negative Reviews:  {:,}'.format(len(neg_reviews)))"
   ]
  },
  {
   "cell_type": "markdown",
   "metadata": {},
   "source": [
    "### Stopwords <a name='s1'></a>"
   ]
  },
  {
   "cell_type": "code",
   "execution_count": 700,
   "metadata": {
    "collapsed": true
   },
   "outputs": [],
   "source": [
    "# additional stopwords\n",
    "from sklearn.feature_extraction import text \n",
    "extra_words = ['ve', 'like', 'got', 'Cleveland', 'just', \n",
    "               'don', 'really', 'said', 'told', 'ok',\n",
    "               'came', 'went', 'did', 'didn', 'good']\n",
    "stop_words = text.ENGLISH_STOP_WORDS.union(extra_words)"
   ]
  },
  {
   "cell_type": "markdown",
   "metadata": {},
   "source": [
    "### TFIDF <a name='s2'></a>"
   ]
  },
  {
   "cell_type": "code",
   "execution_count": 701,
   "metadata": {
    "scrolled": true
   },
   "outputs": [
    {
     "name": "stdout",
     "output_type": "stream",
     "text": [
      "CPU times: user 2.3 s, sys: 8 ms, total: 2.3 s\n",
      "Wall time: 2.3 s\n"
     ]
    }
   ],
   "source": [
    "%%time\n",
    "from sklearn.feature_extraction.text import TfidfVectorizer\n",
    "\n",
    "# Create a vectorizer object to generate term document counts\n",
    "tfidf_pos = TfidfVectorizer(stop_words=stop_words, min_df=10, max_df=0.5, \n",
    "                        ngram_range=(1,1), token_pattern='[a-z][a-z]+')\n",
    "\n",
    "tfidf_neg = TfidfVectorizer(stop_words=stop_words, min_df=10, max_df=0.5, \n",
    "                        ngram_range=(1,1), token_pattern='[a-z][a-z]+')\n",
    "\n",
    "# Get random subset of reviews\n",
    "np.random.seed(38)\n",
    "num_reviews = 20000\n",
    "random_neg = np.random.choice(neg_reviews, size=num_reviews)\n",
    "random_pos = np.random.choice(pos_reviews, size=num_reviews)\n",
    "\n",
    "dicty = {'pizzas':'pizza', 'burgers':'burger', 'ordered':'order',\n",
    "         'prices':'price', 'topping':'toppings'}\n",
    "def replace_words(text, dicty):\n",
    "    '''Returns text with word substitutions made according\n",
    "       to the passed `dicty` dictionary'''\n",
    "    for i,j in dicty.items():\n",
    "        text = text.replace(i,j)\n",
    "    return text\n",
    "\n",
    "random_neg = [replace_words(w, dicty) for w in random_neg]\n",
    "random_pos = [replace_words(w, dicty) for w in random_pos]\n",
    "\n",
    "# Get the vectors\n",
    "neg_vectors = tfidf_neg.fit_transform(random_neg)\n",
    "pos_vectors = tfidf_pos.fit_transform(random_pos)"
   ]
  },
  {
   "cell_type": "code",
   "execution_count": 702,
   "metadata": {
    "collapsed": true
   },
   "outputs": [],
   "source": [
    "# Store TFIDF vectors in a Pandas DataFrame to investigate further\n",
    "neg_df = pd.DataFrame(neg_vectors.todense(), columns=[tfidf_neg.get_feature_names()])\n",
    "pos_df = pd.DataFrame(pos_vectors.todense(), columns=[tfidf_pos.get_feature_names()])\n",
    "\n",
    "# get mean for each column (word): highest means are most important words\n",
    "col_means_neg = {}\n",
    "for col in neg_df:\n",
    "    col_means_neg[col] = neg_df[col].mean()\n",
    "\n",
    "col_means_pos = {}\n",
    "for col in pos_df:\n",
    "    col_means_pos[col] = pos_df[col].mean()"
   ]
  },
  {
   "cell_type": "code",
   "execution_count": 703,
   "metadata": {},
   "outputs": [
    {
     "name": "stdout",
     "output_type": "stream",
     "text": [
      "Top 8 words in POSITIVE reviews:['great', 'place', 'service', 'best', 'delicious', 'time', 'love', 'order']\n",
      "Top 8 words in NEGATIVE reviews:['order', 'place', 'service', 'time', 'minutes', 'restaurant', 'table', 'chicken']\n"
     ]
    }
   ],
   "source": [
    "no_top_words = 8\n",
    "\n",
    "print('Top %d words in POSITIVE reviews:' %no_top_words, end='')\n",
    "print(sorted(col_means_pos, key=col_means_pos.get, reverse=True)[:no_top_words])\n",
    "\n",
    "print('Top %d words in NEGATIVE reviews:' %no_top_words, end='')\n",
    "print(sorted(col_means_neg, key=col_means_neg.get, reverse=True)[:no_top_words])"
   ]
  },
  {
   "cell_type": "markdown",
   "metadata": {},
   "source": [
    "A few takeaways here:  \n",
    "1. Looks like the top words for both positive and negative Yelp reviews mainly revolve around service. \n",
    "2. There are subtle differences though, such as positive reviews having more adjectives and emotional expressions, such as \"delicious\" or \"love\", and negative reviews having more nouns, such as \"minutes\" and \"table\". \n",
    "3. This shows that topic analysis is needed here to move past which words occur the most and analyze which words tend to group together in similar spaces. "
   ]
  },
  {
   "cell_type": "code",
   "execution_count": 704,
   "metadata": {
    "collapsed": true
   },
   "outputs": [],
   "source": [
    "# delete dataframes to save memory\n",
    "del neg_df\n",
    "del pos_df"
   ]
  },
  {
   "cell_type": "markdown",
   "metadata": {},
   "source": [
    "### LSA <a name='s3'></a>"
   ]
  },
  {
   "cell_type": "code",
   "execution_count": 705,
   "metadata": {
    "collapsed": true
   },
   "outputs": [],
   "source": [
    "# LSA\n",
    "from gensim import corpora, models, similarities, matutils\n",
    "\n",
    "# Convert sparse matrix of counts to a gensim corpus\n",
    "# Need to transpose it for gensim which wants terms by docs instead of docs by terms\n",
    "tfidf_pos_corpus = matutils.Sparse2Corpus(pos_vectors.transpose())\n",
    "tfidf_neg_corpus = matutils.Sparse2Corpus(neg_vectors.transpose())\n",
    "\n",
    "# Row indices\n",
    "id2word_pos = dict((v,k) for k,v in tfidf_pos.vocabulary_.items())\n",
    "id2word_neg = dict((v,k) for k,v in tfidf_neg.vocabulary_.items())\n",
    "\n",
    "# This is a hack for Python 3!\n",
    "id2word_pos = corpora.Dictionary.from_corpus(tfidf_pos_corpus, id2word=id2word_pos)\n",
    "id2word_neg = corpora.Dictionary.from_corpus(tfidf_neg_corpus, id2word=id2word_neg)"
   ]
  },
  {
   "cell_type": "code",
   "execution_count": 706,
   "metadata": {
    "collapsed": true
   },
   "outputs": [],
   "source": [
    "# create LSA model\n",
    "num_topics = 20\n",
    "lsi_pos = models.LsiModel(tfidf_pos_corpus, id2word=id2word_pos, num_topics=num_topics)\n",
    "lsi_neg = models.LsiModel(tfidf_neg_corpus, id2word=id2word_neg, num_topics=num_topics)"
   ]
  },
  {
   "cell_type": "code",
   "execution_count": 707,
   "metadata": {},
   "outputs": [
    {
     "data": {
      "image/png": "[encoded data removed]",
      "text/plain": [
       "<matplotlib.figure.Figure at 0x7f629e8fe160>"
      ]
     },
     "metadata": {},
     "output_type": "display_data"
    }
   ],
   "source": [
    "# elbow plot\n",
    "singular_values_pos = lsi_pos.projection.s.tolist()\n",
    "singular_values_pos_rel = [sv/singular_values_pos[-1] for sv in singular_values_pos]\n",
    "singular_values_neg = lsi_neg.projection.s.tolist()\n",
    "singular_values_neg_rel = [sv/singular_values_neg[-1] for sv in singular_values_neg]\n",
    "\n",
    "plt.style.use('fivethirtyeight')\n",
    "plt.figure(figsize=(12,5))\n",
    "plt.plot(range(len(singular_values_pos)), singular_values_pos_rel, label='Positive Reviews', alpha=1.0)\n",
    "plt.plot(range(len(singular_values_neg)), singular_values_neg_rel, label='Negative Reviews', alpha=0.7)\n",
    "plt.xticks(range(len(singular_values_pos)), range(len(singular_values_pos)))\n",
    "plt.xlabel('Topic #')\n",
    "plt.ylabel('Relative Strength')\n",
    "plt.title('LSI Topic Strengths (Relative)')\n",
    "plt.legend(loc=0, fontsize='medium');"
   ]
  },
  {
   "cell_type": "markdown",
   "metadata": {},
   "source": [
    "The **relative elbow plot** above shows that our first topic is approximately 3.5 times stronger of a differentiator than the rest of the topics. The concept of diminishing returns is in full display here. Let's move forward with picking the first 6 or 7 topics for further analysis. "
   ]
  },
  {
   "cell_type": "code",
   "execution_count": 708,
   "metadata": {
    "collapsed": true
   },
   "outputs": [],
   "source": [
    "topics_to_print = 5"
   ]
  },
  {
   "cell_type": "code",
   "execution_count": 709,
   "metadata": {},
   "outputs": [
    {
     "name": "stdout",
     "output_type": "stream",
     "text": [
      "Top 5 topics for POSITIVE reviews\n",
      "---------------------------------\n",
      "[(0,\n",
      "  '0.287*\"great\" + 0.231*\"place\" + 0.181*\"service\" + 0.132*\"time\" + '\n",
      "  '0.132*\"best\" + 0.130*\"order\" + 0.130*\"delicious\" + 0.125*\"love\" + '\n",
      "  '0.121*\"nice\" + 0.117*\"pizza\"'),\n",
      " (1,\n",
      "  '-0.732*\"pizza\" + 0.404*\"great\" + 0.184*\"service\" + -0.147*\"crust\" + '\n",
      "  '-0.119*\"order\" + 0.117*\"atmosphere\" + -0.115*\"sauce\" + 0.097*\"place\" + '\n",
      "  '-0.094*\"cheese\" + 0.086*\"friendly\"'),\n",
      " (2,\n",
      "  '0.555*\"pizza\" + 0.489*\"great\" + -0.170*\"order\" + 0.164*\"service\" + '\n",
      "  '-0.150*\"chicken\" + 0.112*\"atmosphere\" + 0.110*\"staff\" + 0.105*\"place\" + '\n",
      "  '-0.091*\"burger\" + 0.088*\"crust\"'),\n",
      " (3,\n",
      "  '-0.676*\"burger\" + -0.288*\"beer\" + -0.244*\"fries\" + 0.178*\"sushi\" + '\n",
      "  '-0.158*\"bar\" + -0.144*\"selection\" + 0.116*\"thai\" + 0.109*\"service\" + '\n",
      "  '0.103*\"friendly\" + -0.100*\"cheese\"'),\n",
      " (4,\n",
      "  '-0.395*\"place\" + -0.369*\"love\" + -0.314*\"best\" + 0.275*\"great\" + '\n",
      "  '-0.247*\"burger\" + -0.195*\"sushi\" + -0.181*\"cleveland\" + 0.166*\"service\" + '\n",
      "  '0.133*\"excellent\" + 0.111*\"chicken\"')]\n"
     ]
    }
   ],
   "source": [
    "# look at top positive topics\n",
    "print('Top %d topics for POSITIVE reviews' %(topics_to_print))\n",
    "print('-'*33)\n",
    "pprint(lsi_pos.show_topics()[0:topics_to_print])"
   ]
  },
  {
   "cell_type": "code",
   "execution_count": 710,
   "metadata": {},
   "outputs": [
    {
     "name": "stdout",
     "output_type": "stream",
     "text": [
      "Top 5 topics for NEGATIVE reviews\n",
      "---------------------------------\n",
      "[(0,\n",
      "  '0.226*\"order\" + 0.190*\"place\" + 0.190*\"service\" + 0.159*\"time\" + '\n",
      "  '0.149*\"minutes\" + 0.123*\"table\" + 0.118*\"restaurant\" + 0.113*\"server\" + '\n",
      "  '0.104*\"bar\" + 0.099*\"chicken\"'),\n",
      " (1,\n",
      "  '0.311*\"minutes\" + -0.243*\"chicken\" + -0.205*\"pizza\" + 0.178*\"table\" + '\n",
      "  '-0.166*\"sauce\" + 0.162*\"waited\" + 0.156*\"wait\" + 0.147*\"service\" + '\n",
      "  '-0.123*\"cheese\" + 0.114*\"seated\"'),\n",
      " (2,\n",
      "  '0.906*\"pizza\" + -0.151*\"burger\" + -0.110*\"chicken\" + 0.110*\"crust\" + '\n",
      "  '0.080*\"minutes\" + -0.066*\"sushi\" + -0.066*\"rice\" + -0.064*\"fries\" + '\n",
      "  '0.054*\"delivery\" + 0.054*\"pepperoni\"'),\n",
      " (3,\n",
      "  '-0.365*\"burger\" + -0.354*\"order\" + 0.314*\"place\" + 0.257*\"service\" + '\n",
      "  '-0.211*\"minutes\" + -0.178*\"chicken\" + 0.157*\"sushi\" + -0.153*\"fries\" + '\n",
      "  '-0.122*\"cheese\" + -0.118*\"took\"'),\n",
      " (4,\n",
      "  '-0.710*\"burger\" + 0.258*\"chicken\" + -0.210*\"fries\" + -0.153*\"beer\" + '\n",
      "  '0.152*\"order\" + 0.139*\"rice\" + -0.135*\"place\" + 0.130*\"sushi\" + '\n",
      "  '0.114*\"thai\" + -0.100*\"service\"')]\n"
     ]
    }
   ],
   "source": [
    "# look at top negative topics\n",
    "print('Top %d topics for NEGATIVE reviews' %(topics_to_print))\n",
    "print('-'*33)\n",
    "pprint(lsi_neg.show_topics()[0:topics_to_print])"
   ]
  },
  {
   "cell_type": "markdown",
   "metadata": {},
   "source": [
    "Here's the difficulty in interpretation with LSA. Several of our topics have very strong negative weights for words. While that makes sense mathematically, it's harder to make sense of for our purpose. How do we provide insights to a business owner for what people liked and disliked about their restaurant by telling them the most excluded words?  \n",
    "\n",
    "Therefore, we'll try NMF - it'll return only positive word weights."
   ]
  },
  {
   "cell_type": "markdown",
   "metadata": {},
   "source": [
    "### NMF <a name='s4'></a>"
   ]
  },
  {
   "cell_type": "code",
   "execution_count": 711,
   "metadata": {},
   "outputs": [
    {
     "name": "stdout",
     "output_type": "stream",
     "text": [
      "CPU times: user 31.1 s, sys: 480 ms, total: 31.6 s\n",
      "Wall time: 4.01 s\n"
     ]
    }
   ],
   "source": [
    "%%time\n",
    "# negative values in LSA topics are annoying\n",
    "# let's see if we can fix that with NMF\n",
    "from sklearn.decomposition import NMF\n",
    "\n",
    "# change num_topics\n",
    "num_topics = 6\n",
    "\n",
    "nmf_pos = NMF(n_components=num_topics)\n",
    "W_pos = nmf_pos.fit_transform(pos_vectors)\n",
    "H_pos = nmf_pos.components_\n",
    "\n",
    "nmf_neg = NMF(n_components=num_topics)\n",
    "W_neg = nmf_neg.fit_transform(neg_vectors)\n",
    "H_neg = nmf_neg.components_"
   ]
  },
  {
   "cell_type": "code",
   "execution_count": 712,
   "metadata": {},
   "outputs": [
    {
     "name": "stdout",
     "output_type": "stream",
     "text": [
      "Top topics + words for POSITIVE reviews\n",
      "---------------------------------------\n",
      "Topic 0:   1.108*order, 0.935*chicken, 0.750*delicious, 0.709*time, 0.610*restaurant, 0.607*sauce\n",
      "Topic 1:   3.142*pizza, 0.587*crust, 0.256*best, 0.225*pepperoni, 0.219*toppingss, 0.218*sauce\n",
      "Topic 2:   3.239*great, 1.511*service, 0.789*atmosphere, 0.525*beer, 0.471*selection, 0.465*excellent\n",
      "Topic 3:   2.629*burger, 0.903*fries, 0.699*beer, 0.330*selection, 0.287*bar, 0.213*cheese\n",
      "Topic 4:   2.131*place, 1.353*love, 0.863*friendly, 0.834*staff, 0.603*breakfast, 0.467*amazing\n",
      "Topic 5:   1.854*best, 1.788*sushi, 1.072*cleveland, 0.501*thai, 0.491*pho, 0.430*roll\n",
      "\n",
      "Top topics + words for NEGATIVE reviews\n",
      "---------------------------------------\n",
      "Topic 0:   1.898*place, 0.628*restaurant, 0.624*bar, 0.566*great, 0.544*better, 0.541*beer\n",
      "Topic 1:   1.296*chicken, 0.792*order, 0.712*sauce, 0.642*salad, 0.524*rice, 0.454*cheese\n",
      "Topic 2:   2.981*pizza, 0.372*crust, 0.282*cheese, 0.217*sauce, 0.217*order, 0.179*pepperoni\n",
      "Topic 3:   1.513*minutes, 1.135*order, 1.028*table, 0.796*wait, 0.750*waited, 0.744*server\n",
      "Topic 4:   2.652*burger, 0.859*fries, 0.311*medium, 0.288*cheese, 0.221*cold, 0.219*bun\n",
      "Topic 5:   2.086*service, 0.817*slow, 0.703*horrible, 0.671*terrible, 0.450*bad, 0.433*poor\n"
     ]
    }
   ],
   "source": [
    "def display_topics(model, feature_names, num_topics, no_top_words):\n",
    "    for topic_idx, topic in enumerate(model.components_):\n",
    "        if topic_idx < num_topics:\n",
    "            print(\"{:11}\".format(\"Topic %d:\" %(topic_idx)), end='')\n",
    "            print(\", \".join(['{:04.3f}*'.format(topic[i])+feature_names[i] \\\n",
    "                             for i in topic.argsort()[:-no_top_words-1:-1]]))\n",
    "\n",
    "no_topics = num_topics\n",
    "no_top_words = 6\n",
    "\n",
    "print('Top topics + words for POSITIVE reviews')\n",
    "print('-'*39)\n",
    "display_topics(nmf_pos, tfidf_pos.get_feature_names(), no_topics, no_top_words)\n",
    "\n",
    "print('\\nTop topics + words for NEGATIVE reviews')\n",
    "print('-'*39)\n",
    "display_topics(nmf_neg, tfidf_neg.get_feature_names(), no_topics, no_top_words)"
   ]
  },
  {
   "cell_type": "markdown",
   "metadata": {},
   "source": [
    "As expected, these topics are far more interpretable.  \n",
    "* First two topics for positive reviews seem to be (1) speed/availability and (2) pizza.\n",
    "* First two topics for negative reviews seem to be (1) slow service and (2) food (seems like thai food in this subset of data)."
   ]
  },
  {
   "cell_type": "markdown",
   "metadata": {},
   "source": [
    "### Review Similarity in NMF space <a name='s5'></a>"
   ]
  },
  {
   "cell_type": "code",
   "execution_count": 492,
   "metadata": {
    "scrolled": true
   },
   "outputs": [
    {
     "name": "stdout",
     "output_type": "stream",
     "text": [
      "6877\n",
      "Good food, fast service. It makes me a little sad that '80's music is considered retro but that's life. \n",
      "Clean, great decor & branding. Fun place to eat.\n"
     ]
    }
   ],
   "source": [
    "# look at a random positive review\n",
    "review_num = np.random.randint(0, high=len(random_pos))\n",
    "print(review_num)\n",
    "print(random_pos[review_num])"
   ]
  },
  {
   "cell_type": "code",
   "execution_count": 493,
   "metadata": {
    "collapsed": true
   },
   "outputs": [],
   "source": [
    "# compute cosine similarities of this review with all other reviews in the new space\n",
    "import sklearn.metrics.pairwise as smp\n",
    "\n",
    "cosines = {}\n",
    "for ind, review in enumerate(W_pos):\n",
    "    similarity = smp.cosine_similarity(W_pos[review_num].reshape(1,-1), review.reshape(1,-1))\n",
    "    cosines[ind] = similarity[0][0]"
   ]
  },
  {
   "cell_type": "code",
   "execution_count": 494,
   "metadata": {
    "scrolled": true
   },
   "outputs": [
    {
     "name": "stdout",
     "output_type": "stream",
     "text": [
      "--------------------------------------------------\n",
      ">> Similarity 1.000\n",
      "Great friendly staff, willing to talk to you even tho language barrier, my bf and I had a date night here recently and will return! Keep it up guys!\n",
      "--------------------------------------------------\n",
      ">> Similarity 1.000\n",
      "My daughter and I were looking for a new breakfast adventure and we stumbled on Village Gardens.  Great, fast service for breakfast, good traditional fare with nice portions.\n",
      "\n",
      "We went with the \"cars in the parking lot\" meter to help guide us and it didnt fail - great place.  Not much more to share other than we'll be back.\n",
      "--------------------------------------------------\n",
      ">> Similarity 1.000\n",
      "Reasonable price. Good enough sushi. Interesting location. I was told this is the best sushi in the vicinity.  K.\n",
      "\n",
      "The service was great and everyone was really nice. Not crowded at all\n",
      "--------------------------------------------------\n"
     ]
    }
   ],
   "source": [
    "# get top 3 matching reviews\n",
    "for n in sorted(cosines, key=cosines.get, reverse=True)[1:4]:\n",
    "    print('-'*50)\n",
    "    print('>> Similarity {:.3f}'.format(cosines[n]))\n",
    "    print(random_pos[n])\n",
    "print('-'*50)"
   ]
  },
  {
   "cell_type": "markdown",
   "metadata": {},
   "source": [
    "NMF seems to be working well and making good topics for us. But just to give it a shot, let's use CountVectorizer (instead of TFIDF) and try topic modeling through LDA. While slower, its use of a dirichlet prior can often give good results."
   ]
  },
  {
   "cell_type": "markdown",
   "metadata": {},
   "source": [
    "### Count Vectorizer <a name='s6'></a>"
   ]
  },
  {
   "cell_type": "code",
   "execution_count": 533,
   "metadata": {
    "collapsed": true
   },
   "outputs": [],
   "source": [
    "from sklearn.feature_extraction.text import CountVectorizer\n",
    "\n",
    "# Create a vectorizer object to generate term document counts\n",
    "cv_pos = CountVectorizer(stop_words=stop_words, min_df=10, max_df=0.5, \n",
    "                        ngram_range=(1,1), token_pattern='[a-z][a-z]+')\n",
    "\n",
    "cv_neg = CountVectorizer(stop_words=stop_words, min_df=10, max_df=0.5, \n",
    "                        ngram_range=(1,1), token_pattern='[a-z][a-z]+')\n",
    "\n",
    "# Get random subset of reviews\n",
    "np.random.seed(38)\n",
    "num_reviews = 15000\n",
    "cv_random_neg = np.random.choice(neg_reviews, size=num_reviews)\n",
    "cv_random_pos = np.random.choice(pos_reviews, size=num_reviews)\n",
    "\n",
    "# replace words from defined dictionary 'dicty'\n",
    "cv_random_neg = [replace_words(w, dicty) for w in cv_random_neg]\n",
    "cv_random_pos = [replace_words(w, dicty) for w in cv_random_pos]\n",
    "\n",
    "# Get the cv vectors\n",
    "cv_neg_vectors = cv_neg.fit_transform(cv_random_neg).transpose()\n",
    "cv_pos_vectors = cv_pos.fit_transform(cv_random_pos).transpose()"
   ]
  },
  {
   "cell_type": "code",
   "execution_count": 534,
   "metadata": {
    "collapsed": true
   },
   "outputs": [],
   "source": [
    "# Convert sparse matrix of counts to a gensim corpus\n",
    "corpus_neg = matutils.Sparse2Corpus(cv_neg_vectors)\n",
    "corpus_pos = matutils.Sparse2Corpus(cv_pos_vectors)\n",
    "\n",
    "# save a mapping (dict) of row id to word (token) for later use by gensim \n",
    "id2word_cv_pos = dict((v, k) for k, v in cv_pos.vocabulary_.items())\n",
    "id2word_cv_neg = dict((v, k) for k, v in cv_neg.vocabulary_.items())"
   ]
  },
  {
   "cell_type": "markdown",
   "metadata": {},
   "source": [
    "### LDA <a name='s7'></a>"
   ]
  },
  {
   "cell_type": "code",
   "execution_count": 535,
   "metadata": {},
   "outputs": [
    {
     "name": "stdout",
     "output_type": "stream",
     "text": [
      "CPU times: user 3min 15s, sys: 15.9 s, total: 3min 31s\n",
      "Wall time: 3min 14s\n"
     ]
    }
   ],
   "source": [
    "%%time\n",
    "# create lda multicore model\n",
    "lda_pos = models.ldamulticore.LdaMulticore(corpus=corpus_pos, num_topics=5, \n",
    "                                           id2word=id2word_cv_pos, passes=10, workers=15)\n",
    "lda_neg = models.ldamulticore.LdaMulticore(corpus=corpus_neg, num_topics=5, \n",
    "                                           id2word=id2word_cv_neg, passes=10, workers=15)"
   ]
  },
  {
   "cell_type": "code",
   "execution_count": 536,
   "metadata": {},
   "outputs": [
    {
     "name": "stdout",
     "output_type": "stream",
     "text": [
      "Top topics + words for POSITIVE reviews\n",
      "---------------------------------------\n",
      "[(0,\n",
      "  '0.013*\"great\" + 0.012*\"service\" + 0.009*\"delicious\" + 0.009*\"order\" + '\n",
      "  '0.008*\"menu\" + 0.008*\"place\" + 0.008*\"restaurant\"'),\n",
      " (1,\n",
      "  '0.019*\"pizza\" + 0.013*\"time\" + 0.011*\"order\" + 0.011*\"burger\" + '\n",
      "  '0.011*\"great\" + 0.009*\"place\" + 0.008*\"fries\"'),\n",
      " (2,\n",
      "  '0.016*\"place\" + 0.014*\"great\" + 0.008*\"chicken\" + 0.007*\"sauce\" + '\n",
      "  '0.007*\"service\" + 0.007*\"order\" + 0.007*\"try\"'),\n",
      " (3,\n",
      "  '0.023*\"place\" + 0.022*\"great\" + 0.012*\"bar\" + 0.010*\"best\" + '\n",
      "  '0.010*\"service\" + 0.010*\"cleveland\" + 0.007*\"beer\"'),\n",
      " (4,\n",
      "  '0.023*\"great\" + 0.017*\"place\" + 0.011*\"menu\" + 0.010*\"friendly\" + '\n",
      "  '0.008*\"order\" + 0.008*\"price\" + 0.008*\"love\"')]\n",
      "\n",
      "Top topics + words for NEGATIVE reviews\n",
      "---------------------------------------\n",
      "[(0,\n",
      "  '0.021*\"order\" + 0.015*\"minutes\" + 0.012*\"table\" + 0.012*\"service\" + '\n",
      "  '0.010*\"time\" + 0.009*\"waitress\" + 0.008*\"server\"'),\n",
      " (1,\n",
      "  '0.015*\"order\" + 0.013*\"place\" + 0.013*\"chicken\" + 0.008*\"menu\" + '\n",
      "  '0.008*\"service\" + 0.006*\"restaurant\" + 0.006*\"beer\"'),\n",
      " (2,\n",
      "  '0.017*\"place\" + 0.013*\"bar\" + 0.008*\"time\" + 0.008*\"service\" + '\n",
      "  '0.006*\"people\" + 0.006*\"table\" + 0.005*\"staff\"'),\n",
      " (3,\n",
      "  '0.012*\"place\" + 0.011*\"burger\" + 0.010*\"order\" + 0.008*\"cheese\" + '\n",
      "  '0.008*\"pizza\" + 0.007*\"better\" + 0.007*\"sauce\"'),\n",
      " (4,\n",
      "  '0.017*\"service\" + 0.017*\"order\" + 0.015*\"place\" + 0.014*\"time\" + '\n",
      "  '0.011*\"restaurant\" + 0.007*\"people\" + 0.006*\"great\"')]\n"
     ]
    }
   ],
   "source": [
    "print('Top topics + words for POSITIVE reviews')\n",
    "print('-'*39)\n",
    "pprint(lda_pos.print_topics(num_words=7))\n",
    "\n",
    "print('\\nTop topics + words for NEGATIVE reviews')\n",
    "print('-'*39)\n",
    "pprint(lda_neg.print_topics(num_words=7))"
   ]
  },
  {
   "cell_type": "markdown",
   "metadata": {},
   "source": [
    "In this case, it seems that our LDA topics are more blended together into each other than the ones generated by NMF. Let's move forward with NMF."
   ]
  },
  {
   "cell_type": "markdown",
   "metadata": {},
   "source": [
    "### Continuing with NMF Topics <a name='s8'></a>"
   ]
  },
  {
   "cell_type": "code",
   "execution_count": 713,
   "metadata": {},
   "outputs": [
    {
     "name": "stdout",
     "output_type": "stream",
     "text": [
      "Top topics + words for POSITIVE reviews\n",
      "---------------------------------------\n",
      "Topic 0:   1.108*order, 0.935*chicken, 0.750*delicious, 0.709*time, 0.610*restaurant, 0.607*sauce\n",
      "Topic 1:   3.142*pizza, 0.587*crust, 0.256*best, 0.225*pepperoni, 0.219*toppingss, 0.218*sauce\n",
      "Topic 2:   3.239*great, 1.511*service, 0.789*atmosphere, 0.525*beer, 0.471*selection, 0.465*excellent\n",
      "Topic 3:   2.629*burger, 0.903*fries, 0.699*beer, 0.330*selection, 0.287*bar, 0.213*cheese\n",
      "Topic 4:   2.131*place, 1.353*love, 0.863*friendly, 0.834*staff, 0.603*breakfast, 0.467*amazing\n",
      "Topic 5:   1.854*best, 1.788*sushi, 1.072*cleveland, 0.501*thai, 0.491*pho, 0.430*roll\n"
     ]
    }
   ],
   "source": [
    "# let's remind ourselves of the POSITIVE topics\n",
    "print('Top topics + words for POSITIVE reviews')\n",
    "print('-'*39)\n",
    "display_topics(nmf_pos, tfidf_pos.get_feature_names(), no_topics, no_top_words)"
   ]
  },
  {
   "cell_type": "code",
   "execution_count": 715,
   "metadata": {},
   "outputs": [
    {
     "name": "stdout",
     "output_type": "stream",
     "text": [
      "Positive Review #4269\n",
      "-------------------------\n",
      "-Delicious, fresh, authentic Thai food (we order the summer rolls w/ tofu as an appetizer and for mains I had red curry and my boyfriend had the mixed grill)\n",
      "-Quick/friendly service\n",
      "-Easy to use Groupon\n",
      "-Full bar\n",
      "-Would suggest they play music to improve ambiance (it was pretty quiet)\n",
      "\n",
      "Overall a really good experience\n",
      "-------------------------\n",
      "Topic 0: 0.0279\n",
      "Topic 5: 0.0171\n",
      "Topic 2: 0.0121\n",
      "Topic 4: 0.0067\n",
      "Topic 1: 0.0000\n",
      "Topic 3: 0.0000\n"
     ]
    }
   ],
   "source": [
    "# we can investigate a random positive review and see how it's distributed across those topics\n",
    "review_num = np.random.randint(0, high=len(random_pos))\n",
    "print('Positive Review #%d' %review_num)\n",
    "print('-'*25)\n",
    "print(random_pos[review_num])\n",
    "print('-'*25)\n",
    "topic_dict = {}\n",
    "for ind, w in enumerate(W_pos[review_num]):\n",
    "    topic_dict[ind] = w\n",
    "for k in sorted(topic_dict, key=topic_dict.get, reverse=True):\n",
    "     print('Topic {}: {:.4f}'.format(k, topic_dict[k]))"
   ]
  },
  {
   "cell_type": "code",
   "execution_count": 688,
   "metadata": {},
   "outputs": [
    {
     "name": "stdout",
     "output_type": "stream",
     "text": [
      "Top topics + words for NEGATIVE reviews\n",
      "---------------------------------------\n",
      "Topic 0:   1.672*minutes, 1.250*order, 1.150*table, 0.800*waited, 0.797*wait, 0.771*server\n",
      "Topic 1:   1.206*chicken, 0.783*order, 0.700*sauce, 0.637*salad, 0.501*tasted, 0.499*rice\n",
      "Topic 2:   3.039*pizza, 0.396*crust, 0.251*cheese, 0.239*order, 0.232*pepperoni, 0.223*sauce\n",
      "Topic 3:   3.160*burger, 0.974*fries, 0.322*cheese, 0.317*medium, 0.259*order, 0.254*bun\n",
      "Topic 4:   1.627*place, 0.697*bar, 0.529*staff, 0.520*people, 0.497*beer, 0.490*restaurant\n",
      "Topic 5:   2.283*service, 0.805*terrible, 0.792*slow, 0.772*horrible, 0.446*poor, 0.370*bad\n"
     ]
    }
   ],
   "source": [
    "print('Top topics + words for NEGATIVE reviews')\n",
    "print('-'*39)\n",
    "display_topics(nmf_neg, tfidf_neg.get_feature_names(), no_topics, no_top_words)"
   ]
  },
  {
   "cell_type": "code",
   "execution_count": 693,
   "metadata": {},
   "outputs": [
    {
     "name": "stdout",
     "output_type": "stream",
     "text": [
      "Negative Review #10819\n",
      "-------------------------\n",
      "Someone dropped the ball last night or the restaurant doesn't care about take out orders.  Ordered takeout last night.  Just simple penne pasta with sausage and meatballs and Caesar salad.  The pasta was not cooked well, the food was cold when we received it.  Salad was not a Caesar salad nor was the dressing and the bread hadn't been warmed up at all like it usually is.  Sausage very blah.  Will never order carry out from here again.  Cost me $35 when I could have went to the local pizza shop and had the same thing that would have been much better for $10.00.  So disappointed.\n",
      "-------------------------\n",
      "Topic 1: 0.0476\n",
      "Topic 2: 0.0452\n",
      "Topic 0: 0.0048\n",
      "Topic 3: 0.0000\n",
      "Topic 4: 0.0000\n",
      "Topic 5: 0.0000\n"
     ]
    }
   ],
   "source": [
    "# now investigate a random negative review and see how it's distributed across those topics\n",
    "review_num = np.random.randint(0, high=len(random_neg))\n",
    "print('Negative Review #%d' %review_num)\n",
    "print('-'*25)\n",
    "print(random_neg[review_num])\n",
    "print('-'*25)\n",
    "topic_dict = {}\n",
    "for ind, w in enumerate(W_neg[review_num]):\n",
    "    topic_dict[ind] = w\n",
    "for k in sorted(topic_dict, key=topic_dict.get, reverse=True):\n",
    "     print('Topic {}: {:.4f}'.format(k, topic_dict[k]))"
   ]
  },
  {
   "cell_type": "markdown",
   "metadata": {},
   "source": [
    "### Topic Modeling All Reviews <a name='s9'></a>  \n",
    "At this point, we can see that our topics are relatively interpretable and match along with the reviews they're trying to categorize. Let's proceed with topic modeling all reviews and businesses using NMF."
   ]
  },
  {
   "cell_type": "code",
   "execution_count": 720,
   "metadata": {},
   "outputs": [
    {
     "name": "stdout",
     "output_type": "stream",
     "text": [
      "Postive Reviews:  90,311\n",
      "Negative Reviews:  26,733\n"
     ]
    }
   ],
   "source": [
    "print('Postive Reviews:  {:,}'.format(len(pos_reviews)))\n",
    "print('Negative Reviews:  {:,}'.format(len(neg_reviews)))"
   ]
  },
  {
   "cell_type": "code",
   "execution_count": 721,
   "metadata": {},
   "outputs": [
    {
     "name": "stdout",
     "output_type": "stream",
     "text": [
      "CPU times: user 6.24 s, sys: 28 ms, total: 6.27 s\n",
      "Wall time: 6.26 s\n"
     ]
    }
   ],
   "source": [
    "%%time\n",
    "# Create a vectorizer object to generate term document counts\n",
    "tfidf_pos = TfidfVectorizer(stop_words=stop_words, min_df=10, max_df=0.5, \n",
    "                        ngram_range=(1,1), token_pattern='[a-z][a-z]+')\n",
    "\n",
    "tfidf_neg = TfidfVectorizer(stop_words=stop_words, min_df=10, max_df=0.5, \n",
    "                        ngram_range=(1,1), token_pattern='[a-z][a-z]+')\n",
    "\n",
    "# replace words with defined dictionary 'dicty'\n",
    "pos_reviews = [replace_words(w, dicty) for w in pos_reviews]\n",
    "neg_reviews = [replace_words(w, dicty) for w in neg_reviews]\n",
    "\n",
    "# Get the vectors\n",
    "neg_vectors = tfidf_neg.fit_transform(neg_reviews)\n",
    "pos_vectors = tfidf_pos.fit_transform(pos_reviews)"
   ]
  },
  {
   "cell_type": "code",
   "execution_count": 722,
   "metadata": {},
   "outputs": [
    {
     "name": "stdout",
     "output_type": "stream",
     "text": [
      "CPU times: user 1min 52s, sys: 1.46 s, total: 1min 53s\n",
      "Wall time: 14.3 s\n"
     ]
    }
   ],
   "source": [
    "%%time\n",
    "# NMF for all reviews\n",
    "from sklearn.decomposition import NMF\n",
    "\n",
    "# change num_topics\n",
    "num_topics = 6\n",
    "\n",
    "nmf_pos = NMF(n_components=num_topics)\n",
    "W_pos = nmf_pos.fit_transform(pos_vectors)\n",
    "H_pos = nmf_pos.components_\n",
    "\n",
    "nmf_neg = NMF(n_components=num_topics)\n",
    "W_neg = nmf_neg.fit_transform(neg_vectors)\n",
    "H_neg = nmf_neg.components_"
   ]
  },
  {
   "cell_type": "code",
   "execution_count": 959,
   "metadata": {},
   "outputs": [
    {
     "name": "stdout",
     "output_type": "stream",
     "text": [
      "Topics for POSITIVE reviews\n",
      "---------------------------------------\n",
      "Topic 0:   2.295*beer, 2.214*bar, 1.432*selection, 1.147*nice, 1.144*happy, 1.048*hour\n",
      "Topic 1:   4.475*pizza, 0.769*crust, 0.376*best, 0.320*pepperoni, 0.292*sauce, 0.271*cheese\n",
      "Topic 2:   4.332*great, 2.059*service, 0.919*atmosphere, 0.735*excellent, 0.484*price, 0.474*friendly\n",
      "Topic 3:   3.942*burger, 1.435*fries, 0.314*cheese, 0.305*onion, 0.294*rings, 0.283*best\n",
      "Topic 4:   2.569*place, 1.921*love, 1.460*best, 1.012*staff, 0.988*friendly, 0.968*sushi\n",
      "Topic 5:   1.544*order, 1.342*chicken, 1.062*delicious, 0.924*time, 0.831*sauce, 0.814*salad\n",
      "\n",
      "Topics for NEGATIVE reviews\n",
      "---------------------------------------\n",
      "Topic 0:   2.040*place, 0.780*bar, 0.619*great, 0.613*restaurant, 0.602*beer, 0.596*people\n",
      "Topic 1:   1.315*chicken, 0.840*order, 0.748*sauce, 0.677*salad, 0.527*rice, 0.511*cheese\n",
      "Topic 2:   3.210*pizza, 0.397*crust, 0.261*cheese, 0.238*order, 0.208*sauce, 0.191*pepperoni\n",
      "Topic 3:   1.685*minutes, 1.217*order, 1.159*table, 0.840*wait, 0.822*server, 0.816*waited\n",
      "Topic 4:   3.066*burger, 0.975*fries, 0.367*medium, 0.283*order, 0.276*cheese, 0.251*bun\n",
      "Topic 5:   2.308*service, 0.893*slow, 0.790*terrible, 0.703*horrible, 0.479*poor, 0.435*bad\n"
     ]
    }
   ],
   "source": [
    "no_topics = num_topics\n",
    "no_top_words = 6\n",
    "\n",
    "print('Topics for POSITIVE reviews')\n",
    "print('-'*39)\n",
    "display_topics(nmf_pos, tfidf_pos.get_feature_names(), no_topics, no_top_words)\n",
    "\n",
    "print('\\nTopics for NEGATIVE reviews')\n",
    "print('-'*39)\n",
    "display_topics(nmf_neg, tfidf_neg.get_feature_names(), no_topics, no_top_words)"
   ]
  },
  {
   "cell_type": "code",
   "execution_count": 809,
   "metadata": {
    "collapsed": true
   },
   "outputs": [],
   "source": [
    "# create topic dictionaries to summarize the topic meanings\n",
    "pos_topics = {0:'beer/happy_hour', 1:'food/pizza', 2:'service/atmosphere', \n",
    "              3:'food/burger/fries', 4:'friendly_staff', 5:'food/chicken/salad'}\n",
    "\n",
    "neg_topics = {0:'beer/people', 1:'food/chicken/salad', 2:'food/pizza', \n",
    "              3:'wait/table', 4:'food/burger/fries', 5:'bad_service'}"
   ]
  },
  {
   "cell_type": "markdown",
   "metadata": {},
   "source": [
    "### Adding Topic Weights to Pandas DataFrame <a name='s10'></a>"
   ]
  },
  {
   "cell_type": "code",
   "execution_count": 1036,
   "metadata": {
    "collapsed": true
   },
   "outputs": [],
   "source": [
    "# we create dataframes for positive & negative reviews that we can\n",
    "# later add topic information to\n",
    "df_pos = df[['business_id', 'stars', 'text', 'review_length']][df.stars>3].reset_index()\n",
    "df_neg = df[['business_id', 'stars', 'text', 'review_length']][df.stars<3].reset_index()\n",
    "df_pos.drop(labels='index', axis=1, inplace=True)\n",
    "df_neg.drop(labels='index', axis=1, inplace=True)"
   ]
  },
  {
   "cell_type": "markdown",
   "metadata": {},
   "source": [
    "Our topic weights are not immediately relevant as absolute numbers. Let's take a look. "
   ]
  },
  {
   "cell_type": "code",
   "execution_count": 1037,
   "metadata": {},
   "outputs": [
    {
     "name": "stdout",
     "output_type": "stream",
     "text": [
      "Topic weights :  [ 0.02463009  0.00101522  0.02202031  0.00129422  0.00141343  0.00251745]\n",
      "Sum of weights:  0.052890716701\n"
     ]
    }
   ],
   "source": [
    "print('Topic weights : ', W_pos[0])\n",
    "print('Sum of weights: ', W_pos[0].sum())"
   ]
  },
  {
   "cell_type": "markdown",
   "metadata": {},
   "source": [
    "To a business owner, it does not make sense that that a review they received is 0.025 topic 0 and all their topics sum up to 0.053. Therefore, we can normalize the weights so they all add up to 1. "
   ]
  },
  {
   "cell_type": "code",
   "execution_count": 1038,
   "metadata": {},
   "outputs": [
    {
     "name": "stdout",
     "output_type": "stream",
     "text": [
      "Normalized Topic weights :  [[ 0.46567886  0.01919461  0.41633593  0.02446968  0.02672364  0.04759728]]\n",
      "Sum of normalized weights:  1.0\n"
     ]
    }
   ],
   "source": [
    "from sklearn.preprocessing import normalize\n",
    "print('Normalized Topic weights : ', normalize(W_pos[0].reshape(1,-1), norm='l1'))\n",
    "print('Sum of normalized weights: ', normalize(W_pos[0].reshape(1,-1), norm='l1').sum())"
   ]
  },
  {
   "cell_type": "code",
   "execution_count": 1040,
   "metadata": {},
   "outputs": [],
   "source": [
    "# add normalized topic weights to each review\n",
    "df_pos = pd.concat([df_pos, pd.DataFrame(normalize(W_pos, norm='l1'))], axis=1)\n",
    "df_neg = pd.concat([df_neg, pd.DataFrame(normalize(W_neg, norm='l1'))], axis=1)"
   ]
  },
  {
   "cell_type": "code",
   "execution_count": 1041,
   "metadata": {},
   "outputs": [
    {
     "data": {
      "text/html": [
       "<div>\n",
       "<style>\n",
       "    .dataframe thead tr:only-child th {\n",
       "        text-align: right;\n",
       "    }\n",
       "\n",
       "    .dataframe thead th {\n",
       "        text-align: left;\n",
       "    }\n",
       "\n",
       "    .dataframe tbody tr th {\n",
       "        vertical-align: top;\n",
       "    }\n",
       "</style>\n",
       "<table border=\"1\" class=\"dataframe\">\n",
       "  <thead>\n",
       "    <tr style=\"text-align: right;\">\n",
       "      <th></th>\n",
       "      <th>business_id</th>\n",
       "      <th>stars</th>\n",
       "      <th>text</th>\n",
       "      <th>review_length</th>\n",
       "      <th>0</th>\n",
       "      <th>1</th>\n",
       "      <th>2</th>\n",
       "      <th>3</th>\n",
       "      <th>4</th>\n",
       "      <th>5</th>\n",
       "    </tr>\n",
       "  </thead>\n",
       "  <tbody>\n",
       "    <tr>\n",
       "      <th>0</th>\n",
       "      <td>Bd13s20et9wY2sL72lgWow</td>\n",
       "      <td>1</td>\n",
       "      <td>This was obviously just not my atmosphere, I w...</td>\n",
       "      <td>739</td>\n",
       "      <td>0.714657</td>\n",
       "      <td>0.180766</td>\n",
       "      <td>0.072080</td>\n",
       "      <td>0.000000</td>\n",
       "      <td>0.032498</td>\n",
       "      <td>0.000000</td>\n",
       "    </tr>\n",
       "    <tr>\n",
       "      <th>1</th>\n",
       "      <td>ITde2CeOZ6fUG9h3xb-Nag</td>\n",
       "      <td>2</td>\n",
       "      <td>This rating is based on food quality and staff...</td>\n",
       "      <td>531</td>\n",
       "      <td>0.253483</td>\n",
       "      <td>0.475451</td>\n",
       "      <td>0.000000</td>\n",
       "      <td>0.164919</td>\n",
       "      <td>0.000000</td>\n",
       "      <td>0.106148</td>\n",
       "    </tr>\n",
       "    <tr>\n",
       "      <th>2</th>\n",
       "      <td>NyLYY8q1-H3hfsTwuwLPCg</td>\n",
       "      <td>2</td>\n",
       "      <td>Not impressed. As another Yelper said, she fou...</td>\n",
       "      <td>931</td>\n",
       "      <td>0.578168</td>\n",
       "      <td>0.387612</td>\n",
       "      <td>0.015409</td>\n",
       "      <td>0.000000</td>\n",
       "      <td>0.018811</td>\n",
       "      <td>0.000000</td>\n",
       "    </tr>\n",
       "    <tr>\n",
       "      <th>3</th>\n",
       "      <td>Im0hMcWaqWIzuBM8xILDsA</td>\n",
       "      <td>2</td>\n",
       "      <td>Unimpressed.\\n\\nI had been wanting to try this...</td>\n",
       "      <td>1479</td>\n",
       "      <td>0.170182</td>\n",
       "      <td>0.731674</td>\n",
       "      <td>0.024512</td>\n",
       "      <td>0.000000</td>\n",
       "      <td>0.073631</td>\n",
       "      <td>0.000000</td>\n",
       "    </tr>\n",
       "    <tr>\n",
       "      <th>4</th>\n",
       "      <td>EOghCHtoyxJQnVZnvKxmNQ</td>\n",
       "      <td>1</td>\n",
       "      <td>This is a very late review, and is written onl...</td>\n",
       "      <td>1664</td>\n",
       "      <td>0.862346</td>\n",
       "      <td>0.111661</td>\n",
       "      <td>0.008353</td>\n",
       "      <td>0.017640</td>\n",
       "      <td>0.000000</td>\n",
       "      <td>0.000000</td>\n",
       "    </tr>\n",
       "  </tbody>\n",
       "</table>\n",
       "</div>"
      ],
      "text/plain": [
       "              business_id  stars  \\\n",
       "0  Bd13s20et9wY2sL72lgWow      1   \n",
       "1  ITde2CeOZ6fUG9h3xb-Nag      2   \n",
       "2  NyLYY8q1-H3hfsTwuwLPCg      2   \n",
       "3  Im0hMcWaqWIzuBM8xILDsA      2   \n",
       "4  EOghCHtoyxJQnVZnvKxmNQ      1   \n",
       "\n",
       "                                                text  review_length         0  \\\n",
       "0  This was obviously just not my atmosphere, I w...            739  0.714657   \n",
       "1  This rating is based on food quality and staff...            531  0.253483   \n",
       "2  Not impressed. As another Yelper said, she fou...            931  0.578168   \n",
       "3  Unimpressed.\\n\\nI had been wanting to try this...           1479  0.170182   \n",
       "4  This is a very late review, and is written onl...           1664  0.862346   \n",
       "\n",
       "          1         2         3         4         5  \n",
       "0  0.180766  0.072080  0.000000  0.032498  0.000000  \n",
       "1  0.475451  0.000000  0.164919  0.000000  0.106148  \n",
       "2  0.387612  0.015409  0.000000  0.018811  0.000000  \n",
       "3  0.731674  0.024512  0.000000  0.073631  0.000000  \n",
       "4  0.111661  0.008353  0.017640  0.000000  0.000000  "
      ]
     },
     "execution_count": 1041,
     "metadata": {},
     "output_type": "execute_result"
    }
   ],
   "source": [
    "# peek into a dataframe to ensure it worked right\n",
    "df_neg.head()"
   ]
  },
  {
   "cell_type": "markdown",
   "metadata": {},
   "source": [
    "Great - we have topic weights for each review in this dataframe. Next, we can group by the business_id and get mean topic weights per restaurant."
   ]
  },
  {
   "cell_type": "code",
   "execution_count": 1042,
   "metadata": {
    "collapsed": true
   },
   "outputs": [],
   "source": [
    "# group by business_id and apply mean/count functions to columns\n",
    "df_pos_bsns = df_pos.groupby('business_id').agg({'stars':'mean', 'text':'count',\n",
    "                                                 'review_length':'mean',0:'mean', \n",
    "                                                 1:'mean', 2:'mean', 3:'mean',\n",
    "                                                 4:'mean', 5:'mean'}).reset_index()\n",
    "df_neg_bsns = df_neg.groupby('business_id').agg({'stars':'mean', 'text':'count',\n",
    "                                                 'review_length':'mean',0:'mean', \n",
    "                                                 1:'mean', 2:'mean', 3:'mean',\n",
    "                                                 4:'mean', 5:'mean'}).reset_index()"
   ]
  },
  {
   "cell_type": "code",
   "execution_count": 1043,
   "metadata": {
    "scrolled": true
   },
   "outputs": [
    {
     "data": {
      "text/html": [
       "<div>\n",
       "<style>\n",
       "    .dataframe thead tr:only-child th {\n",
       "        text-align: right;\n",
       "    }\n",
       "\n",
       "    .dataframe thead th {\n",
       "        text-align: left;\n",
       "    }\n",
       "\n",
       "    .dataframe tbody tr th {\n",
       "        vertical-align: top;\n",
       "    }\n",
       "</style>\n",
       "<table border=\"1\" class=\"dataframe\">\n",
       "  <thead>\n",
       "    <tr style=\"text-align: right;\">\n",
       "      <th></th>\n",
       "      <th>business_id</th>\n",
       "      <th>stars</th>\n",
       "      <th>text</th>\n",
       "      <th>review_length</th>\n",
       "      <th>0</th>\n",
       "      <th>1</th>\n",
       "      <th>2</th>\n",
       "      <th>3</th>\n",
       "      <th>4</th>\n",
       "      <th>5</th>\n",
       "    </tr>\n",
       "  </thead>\n",
       "  <tbody>\n",
       "    <tr>\n",
       "      <th>0</th>\n",
       "      <td>--I7YYLada0tSLkORTHb5Q</td>\n",
       "      <td>4.487805</td>\n",
       "      <td>41</td>\n",
       "      <td>337.707317</td>\n",
       "      <td>0.247308</td>\n",
       "      <td>0.012125</td>\n",
       "      <td>0.252212</td>\n",
       "      <td>0.132580</td>\n",
       "      <td>0.150639</td>\n",
       "      <td>0.205137</td>\n",
       "    </tr>\n",
       "    <tr>\n",
       "      <th>1</th>\n",
       "      <td>-49WY_TEa9ZEcRk_GnuLog</td>\n",
       "      <td>4.210526</td>\n",
       "      <td>19</td>\n",
       "      <td>314.368421</td>\n",
       "      <td>0.065293</td>\n",
       "      <td>0.007372</td>\n",
       "      <td>0.383144</td>\n",
       "      <td>0.007661</td>\n",
       "      <td>0.270563</td>\n",
       "      <td>0.265966</td>\n",
       "    </tr>\n",
       "    <tr>\n",
       "      <th>2</th>\n",
       "      <td>-8O8sVCnaIKHP-596zN9UA</td>\n",
       "      <td>4.606061</td>\n",
       "      <td>99</td>\n",
       "      <td>530.111111</td>\n",
       "      <td>0.163032</td>\n",
       "      <td>0.015570</td>\n",
       "      <td>0.294349</td>\n",
       "      <td>0.020918</td>\n",
       "      <td>0.170485</td>\n",
       "      <td>0.335647</td>\n",
       "    </tr>\n",
       "    <tr>\n",
       "      <th>3</th>\n",
       "      <td>-B_4pHQkzU12AMaYkkY4cw</td>\n",
       "      <td>4.318182</td>\n",
       "      <td>44</td>\n",
       "      <td>525.431818</td>\n",
       "      <td>0.074764</td>\n",
       "      <td>0.026547</td>\n",
       "      <td>0.161418</td>\n",
       "      <td>0.075333</td>\n",
       "      <td>0.148506</td>\n",
       "      <td>0.513432</td>\n",
       "    </tr>\n",
       "    <tr>\n",
       "      <th>4</th>\n",
       "      <td>-Biboxy2pG3MovBOF_r4SQ</td>\n",
       "      <td>4.500000</td>\n",
       "      <td>8</td>\n",
       "      <td>471.125000</td>\n",
       "      <td>0.081066</td>\n",
       "      <td>0.014826</td>\n",
       "      <td>0.367548</td>\n",
       "      <td>0.078620</td>\n",
       "      <td>0.263452</td>\n",
       "      <td>0.194488</td>\n",
       "    </tr>\n",
       "  </tbody>\n",
       "</table>\n",
       "</div>"
      ],
      "text/plain": [
       "              business_id     stars  text  review_length         0         1  \\\n",
       "0  --I7YYLada0tSLkORTHb5Q  4.487805    41     337.707317  0.247308  0.012125   \n",
       "1  -49WY_TEa9ZEcRk_GnuLog  4.210526    19     314.368421  0.065293  0.007372   \n",
       "2  -8O8sVCnaIKHP-596zN9UA  4.606061    99     530.111111  0.163032  0.015570   \n",
       "3  -B_4pHQkzU12AMaYkkY4cw  4.318182    44     525.431818  0.074764  0.026547   \n",
       "4  -Biboxy2pG3MovBOF_r4SQ  4.500000     8     471.125000  0.081066  0.014826   \n",
       "\n",
       "          2         3         4         5  \n",
       "0  0.252212  0.132580  0.150639  0.205137  \n",
       "1  0.383144  0.007661  0.270563  0.265966  \n",
       "2  0.294349  0.020918  0.170485  0.335647  \n",
       "3  0.161418  0.075333  0.148506  0.513432  \n",
       "4  0.367548  0.078620  0.263452  0.194488  "
      ]
     },
     "execution_count": 1043,
     "metadata": {},
     "output_type": "execute_result"
    }
   ],
   "source": [
    "df_pos_bsns.head(5)"
   ]
  },
  {
   "cell_type": "code",
   "execution_count": 1044,
   "metadata": {},
   "outputs": [
    {
     "data": {
      "text/html": [
       "<div>\n",
       "<style>\n",
       "    .dataframe thead tr:only-child th {\n",
       "        text-align: right;\n",
       "    }\n",
       "\n",
       "    .dataframe thead th {\n",
       "        text-align: left;\n",
       "    }\n",
       "\n",
       "    .dataframe tbody tr th {\n",
       "        vertical-align: top;\n",
       "    }\n",
       "</style>\n",
       "<table border=\"1\" class=\"dataframe\">\n",
       "  <thead>\n",
       "    <tr style=\"text-align: right;\">\n",
       "      <th></th>\n",
       "      <th>business_id</th>\n",
       "      <th>stars</th>\n",
       "      <th>text</th>\n",
       "      <th>review_length</th>\n",
       "      <th>0</th>\n",
       "      <th>1</th>\n",
       "      <th>2</th>\n",
       "      <th>3</th>\n",
       "      <th>4</th>\n",
       "      <th>5</th>\n",
       "    </tr>\n",
       "  </thead>\n",
       "  <tbody>\n",
       "    <tr>\n",
       "      <th>0</th>\n",
       "      <td>--I7YYLada0tSLkORTHb5Q</td>\n",
       "      <td>1.555556</td>\n",
       "      <td>18</td>\n",
       "      <td>715.166667</td>\n",
       "      <td>0.226518</td>\n",
       "      <td>0.205736</td>\n",
       "      <td>0.008840</td>\n",
       "      <td>0.212232</td>\n",
       "      <td>0.149451</td>\n",
       "      <td>0.197223</td>\n",
       "    </tr>\n",
       "    <tr>\n",
       "      <th>1</th>\n",
       "      <td>-49WY_TEa9ZEcRk_GnuLog</td>\n",
       "      <td>1.333333</td>\n",
       "      <td>6</td>\n",
       "      <td>616.166667</td>\n",
       "      <td>0.143072</td>\n",
       "      <td>0.340383</td>\n",
       "      <td>0.000000</td>\n",
       "      <td>0.295179</td>\n",
       "      <td>0.041138</td>\n",
       "      <td>0.180229</td>\n",
       "    </tr>\n",
       "    <tr>\n",
       "      <th>2</th>\n",
       "      <td>-8O8sVCnaIKHP-596zN9UA</td>\n",
       "      <td>1.609756</td>\n",
       "      <td>41</td>\n",
       "      <td>643.146341</td>\n",
       "      <td>0.261038</td>\n",
       "      <td>0.271779</td>\n",
       "      <td>0.010757</td>\n",
       "      <td>0.224146</td>\n",
       "      <td>0.023239</td>\n",
       "      <td>0.209041</td>\n",
       "    </tr>\n",
       "    <tr>\n",
       "      <th>3</th>\n",
       "      <td>-B_4pHQkzU12AMaYkkY4cw</td>\n",
       "      <td>1.625000</td>\n",
       "      <td>16</td>\n",
       "      <td>816.125000</td>\n",
       "      <td>0.153000</td>\n",
       "      <td>0.591237</td>\n",
       "      <td>0.013282</td>\n",
       "      <td>0.141182</td>\n",
       "      <td>0.045399</td>\n",
       "      <td>0.055899</td>\n",
       "    </tr>\n",
       "    <tr>\n",
       "      <th>4</th>\n",
       "      <td>-Biboxy2pG3MovBOF_r4SQ</td>\n",
       "      <td>1.421053</td>\n",
       "      <td>19</td>\n",
       "      <td>548.000000</td>\n",
       "      <td>0.370449</td>\n",
       "      <td>0.116606</td>\n",
       "      <td>0.016689</td>\n",
       "      <td>0.347139</td>\n",
       "      <td>0.023664</td>\n",
       "      <td>0.125453</td>\n",
       "    </tr>\n",
       "  </tbody>\n",
       "</table>\n",
       "</div>"
      ],
      "text/plain": [
       "              business_id     stars  text  review_length         0         1  \\\n",
       "0  --I7YYLada0tSLkORTHb5Q  1.555556    18     715.166667  0.226518  0.205736   \n",
       "1  -49WY_TEa9ZEcRk_GnuLog  1.333333     6     616.166667  0.143072  0.340383   \n",
       "2  -8O8sVCnaIKHP-596zN9UA  1.609756    41     643.146341  0.261038  0.271779   \n",
       "3  -B_4pHQkzU12AMaYkkY4cw  1.625000    16     816.125000  0.153000  0.591237   \n",
       "4  -Biboxy2pG3MovBOF_r4SQ  1.421053    19     548.000000  0.370449  0.116606   \n",
       "\n",
       "          2         3         4         5  \n",
       "0  0.008840  0.212232  0.149451  0.197223  \n",
       "1  0.000000  0.295179  0.041138  0.180229  \n",
       "2  0.010757  0.224146  0.023239  0.209041  \n",
       "3  0.013282  0.141182  0.045399  0.055899  \n",
       "4  0.016689  0.347139  0.023664  0.125453  "
      ]
     },
     "execution_count": 1044,
     "metadata": {},
     "output_type": "execute_result"
    }
   ],
   "source": [
    "df_neg_bsns.head()"
   ]
  },
  {
   "cell_type": "markdown",
   "metadata": {},
   "source": [
    "### Adding in Business Information <a name='s11'></a>"
   ]
  },
  {
   "cell_type": "code",
   "execution_count": 1045,
   "metadata": {
    "collapsed": true
   },
   "outputs": [],
   "source": [
    "# we can read in business info from a saved CSV file\n",
    "# and add that to our last dataframe\n",
    "oh_df = pd.read_csv('OH_restaurants.csv')\n",
    "oh_df.drop(labels='Unnamed: 0', axis=1, inplace=True)"
   ]
  },
  {
   "cell_type": "code",
   "execution_count": 1046,
   "metadata": {},
   "outputs": [],
   "source": [
    "# merge business name/city with topic data\n",
    "df_pos_tot = df_pos_bsns.merge(oh_df[['id', 'name', 'city', 'stars']], left_on='business_id', \n",
    "                               right_on='id')[['business_id', 'name', 'city', 'stars_y', 0, 1, 2, 3, 4, 5]]\n",
    "\n",
    "df_neg_tot = df_neg_bsns.merge(oh_df[['id', 'name', 'city', 'stars']], left_on='business_id', \n",
    "                               right_on='id')[['business_id', 'name', 'city', 'stars_y', 0, 1, 2, 3, 4, 5]]"
   ]
  },
  {
   "cell_type": "code",
   "execution_count": 1047,
   "metadata": {},
   "outputs": [
    {
     "data": {
      "text/html": [
       "<div>\n",
       "<style>\n",
       "    .dataframe thead tr:only-child th {\n",
       "        text-align: right;\n",
       "    }\n",
       "\n",
       "    .dataframe thead th {\n",
       "        text-align: left;\n",
       "    }\n",
       "\n",
       "    .dataframe tbody tr th {\n",
       "        vertical-align: top;\n",
       "    }\n",
       "</style>\n",
       "<table border=\"1\" class=\"dataframe\">\n",
       "  <thead>\n",
       "    <tr style=\"text-align: right;\">\n",
       "      <th></th>\n",
       "      <th>business_id</th>\n",
       "      <th>name</th>\n",
       "      <th>city</th>\n",
       "      <th>stars_y</th>\n",
       "      <th>0</th>\n",
       "      <th>1</th>\n",
       "      <th>2</th>\n",
       "      <th>3</th>\n",
       "      <th>4</th>\n",
       "      <th>5</th>\n",
       "    </tr>\n",
       "  </thead>\n",
       "  <tbody>\n",
       "    <tr>\n",
       "      <th>0</th>\n",
       "      <td>--I7YYLada0tSLkORTHb5Q</td>\n",
       "      <td>Happy Moose Bar and Grill</td>\n",
       "      <td>Streetsboro</td>\n",
       "      <td>3.5</td>\n",
       "      <td>0.247308</td>\n",
       "      <td>0.012125</td>\n",
       "      <td>0.252212</td>\n",
       "      <td>0.132580</td>\n",
       "      <td>0.150639</td>\n",
       "      <td>0.205137</td>\n",
       "    </tr>\n",
       "    <tr>\n",
       "      <th>1</th>\n",
       "      <td>-49WY_TEa9ZEcRk_GnuLog</td>\n",
       "      <td>Cracker Barrel Old Country Store</td>\n",
       "      <td>Sheffield Village</td>\n",
       "      <td>3.5</td>\n",
       "      <td>0.065293</td>\n",
       "      <td>0.007372</td>\n",
       "      <td>0.383144</td>\n",
       "      <td>0.007661</td>\n",
       "      <td>0.270563</td>\n",
       "      <td>0.265966</td>\n",
       "    </tr>\n",
       "    <tr>\n",
       "      <th>2</th>\n",
       "      <td>-8O8sVCnaIKHP-596zN9UA</td>\n",
       "      <td>Blue Canyon Kitchen &amp; Tavern</td>\n",
       "      <td>Twinsburg</td>\n",
       "      <td>3.5</td>\n",
       "      <td>0.163032</td>\n",
       "      <td>0.015570</td>\n",
       "      <td>0.294349</td>\n",
       "      <td>0.020918</td>\n",
       "      <td>0.170485</td>\n",
       "      <td>0.335647</td>\n",
       "    </tr>\n",
       "    <tr>\n",
       "      <th>3</th>\n",
       "      <td>-B_4pHQkzU12AMaYkkY4cw</td>\n",
       "      <td>Old Carolina Barbecue Company</td>\n",
       "      <td>Strongsville</td>\n",
       "      <td>3.5</td>\n",
       "      <td>0.074764</td>\n",
       "      <td>0.026547</td>\n",
       "      <td>0.161418</td>\n",
       "      <td>0.075333</td>\n",
       "      <td>0.148506</td>\n",
       "      <td>0.513432</td>\n",
       "    </tr>\n",
       "    <tr>\n",
       "      <th>4</th>\n",
       "      <td>-Biboxy2pG3MovBOF_r4SQ</td>\n",
       "      <td>Perkins Restaurant &amp; Bakery</td>\n",
       "      <td>Middleburg Heights</td>\n",
       "      <td>2.5</td>\n",
       "      <td>0.081066</td>\n",
       "      <td>0.014826</td>\n",
       "      <td>0.367548</td>\n",
       "      <td>0.078620</td>\n",
       "      <td>0.263452</td>\n",
       "      <td>0.194488</td>\n",
       "    </tr>\n",
       "  </tbody>\n",
       "</table>\n",
       "</div>"
      ],
      "text/plain": [
       "              business_id                              name  \\\n",
       "0  --I7YYLada0tSLkORTHb5Q         Happy Moose Bar and Grill   \n",
       "1  -49WY_TEa9ZEcRk_GnuLog  Cracker Barrel Old Country Store   \n",
       "2  -8O8sVCnaIKHP-596zN9UA      Blue Canyon Kitchen & Tavern   \n",
       "3  -B_4pHQkzU12AMaYkkY4cw     Old Carolina Barbecue Company   \n",
       "4  -Biboxy2pG3MovBOF_r4SQ       Perkins Restaurant & Bakery   \n",
       "\n",
       "                 city  stars_y         0         1         2         3  \\\n",
       "0         Streetsboro      3.5  0.247308  0.012125  0.252212  0.132580   \n",
       "1   Sheffield Village      3.5  0.065293  0.007372  0.383144  0.007661   \n",
       "2           Twinsburg      3.5  0.163032  0.015570  0.294349  0.020918   \n",
       "3        Strongsville      3.5  0.074764  0.026547  0.161418  0.075333   \n",
       "4  Middleburg Heights      2.5  0.081066  0.014826  0.367548  0.078620   \n",
       "\n",
       "          4         5  \n",
       "0  0.150639  0.205137  \n",
       "1  0.270563  0.265966  \n",
       "2  0.170485  0.335647  \n",
       "3  0.148506  0.513432  \n",
       "4  0.263452  0.194488  "
      ]
     },
     "execution_count": 1047,
     "metadata": {},
     "output_type": "execute_result"
    }
   ],
   "source": [
    "# peek into business/topic distributions\n",
    "df_pos_tot.head()"
   ]
  },
  {
   "cell_type": "markdown",
   "metadata": {},
   "source": [
    "We can check topic distributions for a business and see how they make sense after all the reviews have been normalized and then averaged up to the business-level. Let's check `business_id 'uOPzOiwkS_6w4txA7fYfeA'`, which happens to be a popular chili spot in Ohio."
   ]
  },
  {
   "cell_type": "code",
   "execution_count": 1051,
   "metadata": {},
   "outputs": [
    {
     "name": "stdout",
     "output_type": "stream",
     "text": [
      "Skyline Chili - Positive Reviews\n",
      "------------------------------------\n",
      "Topic 0: beer/happy_hour    > 0.0767\n",
      "Topic 1: food/pizza         > 0.0327\n",
      "Topic 2: service/atmosphere > 0.0818\n",
      "Topic 3: food/burger/fries  > 0.0891\n",
      "Topic 4: friendly_staff     > 0.3543\n",
      "Topic 5: food/chicken/salad > 0.3655\n"
     ]
    }
   ],
   "source": [
    "scores = df_pos_bsns[df_pos_bsns.business_id == 'uOPzOiwkS_6w4txA7fYfeA'].iloc[:,-6:].values\n",
    "print(oh_df[oh_df.id == 'uOPzOiwkS_6w4txA7fYfeA']['name'].values[0] + ' - Positive Reviews')\n",
    "print('-'*36)\n",
    "for n in pos_topics:\n",
    "    print('Topic {}: {:18} > {:.4f}'.format(n, pos_topics[n], scores[0][n]))"
   ]
  },
  {
   "cell_type": "markdown",
   "metadata": {},
   "source": [
    "We now have 4 dataframes:  \n",
    "1. **`df_pos_tot`: ** topic distribution of positive reviews with name, city, and stars for all restaurants\n",
    "2. **`df_neg_tot`: ** topic distribution of negative reviews with name, city, and stars for all restaurants\n",
    "3. **`df_pos`: ** topic distribution of all positive reviews with associated business_id\n",
    "4. **`df_neg`: ** topic distribution of all negative reviews with associated business_id  \n",
    "\n",
    "We can write them to CSV files and then use that information for visualizations in Tableau."
   ]
  },
  {
   "cell_type": "code",
   "execution_count": 1068,
   "metadata": {},
   "outputs": [
    {
     "name": "stdout",
     "output_type": "stream",
     "text": [
      "CPU times: user 1.82 s, sys: 84 ms, total: 1.9 s\n",
      "Wall time: 1.9 s\n"
     ]
    }
   ],
   "source": [
    "%%time\n",
    "# write to CSV\n",
    "df_pos_tot.to_csv('CSVs/pos_bsns.csv')\n",
    "df_neg_tot.to_csv('CSVs/neg_bsns.csv')\n",
    "df_pos.to_csv('CSVs/pos_reviews.csv')\n",
    "df_neg.to_csv('CSVs/neg_reviews.csv')"
   ]
  }
 ],
 "metadata": {
  "kernelspec": {
   "display_name": "Python 3",
   "language": "python",
   "name": "python3"
  },
  "language_info": {
   "codemirror_mode": {
    "name": "ipython",
    "version": 3
   },
   "file_extension": ".py",
   "mimetype": "text/x-python",
   "name": "python",
   "nbconvert_exporter": "python",
   "pygments_lexer": "ipython3",
   "version": "3.6.3"
  }
 },
 "nbformat": 4,
 "nbformat_minor": 2
}
